{
  "nbformat": 4,
  "nbformat_minor": 0,
  "metadata": {
    "colab": {
      "name": "Diabetes_Ann.ipynb",
      "provenance": [],
      "collapsed_sections": []
    },
    "kernelspec": {
      "name": "python3",
      "display_name": "Python 3"
    }
  },
  "cells": [
    {
      "cell_type": "markdown",
      "metadata": {
        "id": "tXIO-7gyOB8Q"
      },
      "source": [
        "A neural network for the prediction of Diabetes...\r\n",
        "\r\n",
        "Steps\r\n",
        "1. import all necessary libraries\r\n",
        "2. Load Data.\r\n",
        "3. Define Keras Model.\r\n",
        "4. Compile Keras Model.\r\n",
        "5. Fit Keras Model.\r\n",
        "6. Evaluate Keras Model.\r\n",
        "7. Make Predictions\r\n",
        "8. Get confusion_metrix\r\n",
        "9. Get accuracy_score\r\n",
        "\r\n"
      ]
    },
    {
      "cell_type": "code",
      "metadata": {
        "id": "F8q9ekHmmNOV"
      },
      "source": [
        "#importing necessary libraries\r\n",
        "import numpy as np\r\n",
        "import pandas as pd\r\n",
        "from keras.models import Sequential\r\n",
        "from keras.layers import Dense \r\n",
        "from sklearn.model_selection import train_test_split\r\n",
        "from sklearn.preprocessing import StandardScaler\r\n",
        "from matplotlib import pyplot as plt\r\n",
        "import seaborn as sns"
      ],
      "execution_count": 125,
      "outputs": []
    },
    {
      "cell_type": "code",
      "metadata": {
        "colab": {
          "base_uri": "https://localhost:8080/",
          "height": 204
        },
        "id": "kkBVOmGx8VSD",
        "outputId": "7d949e98-a885-4fc0-9425-0c2c53ee5f8c"
      },
      "source": [
        "#loading data\r\n",
        "data=pd.read_csv('pima-indians-diabetes.csv',names=['Pregnancies','Glucose','BloodPressure','SkinThickness','Insulin','BMI','DiabetesPedigreeFunction','Age','Class'])\r\n",
        "data.head()"
      ],
      "execution_count": 126,
      "outputs": [
        {
          "output_type": "execute_result",
          "data": {
            "text/html": [
              "<div>\n",
              "<style scoped>\n",
              "    .dataframe tbody tr th:only-of-type {\n",
              "        vertical-align: middle;\n",
              "    }\n",
              "\n",
              "    .dataframe tbody tr th {\n",
              "        vertical-align: top;\n",
              "    }\n",
              "\n",
              "    .dataframe thead th {\n",
              "        text-align: right;\n",
              "    }\n",
              "</style>\n",
              "<table border=\"1\" class=\"dataframe\">\n",
              "  <thead>\n",
              "    <tr style=\"text-align: right;\">\n",
              "      <th></th>\n",
              "      <th>Pregnancies</th>\n",
              "      <th>Glucose</th>\n",
              "      <th>BloodPressure</th>\n",
              "      <th>SkinThickness</th>\n",
              "      <th>Insulin</th>\n",
              "      <th>BMI</th>\n",
              "      <th>DiabetesPedigreeFunction</th>\n",
              "      <th>Age</th>\n",
              "      <th>Class</th>\n",
              "    </tr>\n",
              "  </thead>\n",
              "  <tbody>\n",
              "    <tr>\n",
              "      <th>0</th>\n",
              "      <td>6</td>\n",
              "      <td>148</td>\n",
              "      <td>72</td>\n",
              "      <td>35</td>\n",
              "      <td>0</td>\n",
              "      <td>33.6</td>\n",
              "      <td>0.627</td>\n",
              "      <td>50</td>\n",
              "      <td>1</td>\n",
              "    </tr>\n",
              "    <tr>\n",
              "      <th>1</th>\n",
              "      <td>1</td>\n",
              "      <td>85</td>\n",
              "      <td>66</td>\n",
              "      <td>29</td>\n",
              "      <td>0</td>\n",
              "      <td>26.6</td>\n",
              "      <td>0.351</td>\n",
              "      <td>31</td>\n",
              "      <td>0</td>\n",
              "    </tr>\n",
              "    <tr>\n",
              "      <th>2</th>\n",
              "      <td>8</td>\n",
              "      <td>183</td>\n",
              "      <td>64</td>\n",
              "      <td>0</td>\n",
              "      <td>0</td>\n",
              "      <td>23.3</td>\n",
              "      <td>0.672</td>\n",
              "      <td>32</td>\n",
              "      <td>1</td>\n",
              "    </tr>\n",
              "    <tr>\n",
              "      <th>3</th>\n",
              "      <td>1</td>\n",
              "      <td>89</td>\n",
              "      <td>66</td>\n",
              "      <td>23</td>\n",
              "      <td>94</td>\n",
              "      <td>28.1</td>\n",
              "      <td>0.167</td>\n",
              "      <td>21</td>\n",
              "      <td>0</td>\n",
              "    </tr>\n",
              "    <tr>\n",
              "      <th>4</th>\n",
              "      <td>0</td>\n",
              "      <td>137</td>\n",
              "      <td>40</td>\n",
              "      <td>35</td>\n",
              "      <td>168</td>\n",
              "      <td>43.1</td>\n",
              "      <td>2.288</td>\n",
              "      <td>33</td>\n",
              "      <td>1</td>\n",
              "    </tr>\n",
              "  </tbody>\n",
              "</table>\n",
              "</div>"
            ],
            "text/plain": [
              "   Pregnancies  Glucose  BloodPressure  ...  DiabetesPedigreeFunction  Age  Class\n",
              "0            6      148             72  ...                     0.627   50      1\n",
              "1            1       85             66  ...                     0.351   31      0\n",
              "2            8      183             64  ...                     0.672   32      1\n",
              "3            1       89             66  ...                     0.167   21      0\n",
              "4            0      137             40  ...                     2.288   33      1\n",
              "\n",
              "[5 rows x 9 columns]"
            ]
          },
          "metadata": {
            "tags": []
          },
          "execution_count": 126
        }
      ]
    },
    {
      "cell_type": "code",
      "metadata": {
        "id": "Vd2pVrEZ8tjM"
      },
      "source": [
        "# Dividing data into dependent and independent variables\r\n",
        "# Independent variables\r\n",
        "X=data.iloc[:,0:8]\r\n"
      ],
      "execution_count": 127,
      "outputs": []
    },
    {
      "cell_type": "code",
      "metadata": {
        "id": "1cO7WToM-bnB"
      },
      "source": [
        "# Dependent variable\r\n",
        "y=data['Class']\r\n"
      ],
      "execution_count": 128,
      "outputs": []
    },
    {
      "cell_type": "code",
      "metadata": {
        "id": "Dlfv23xn-v6w"
      },
      "source": [
        "#Splitting the dataset into the Training set and Test set\r\n",
        "X_train,X_test,y_train,y_test=train_test_split(X,y,test_size=0.2,random_state=0)"
      ],
      "execution_count": 129,
      "outputs": []
    },
    {
      "cell_type": "code",
      "metadata": {
        "id": "gFStomJwAEE4"
      },
      "source": [
        "# Feature Scaling\r\n",
        "sc=StandardScaler()\r\n",
        "X_train=sc.fit_transform(X_train)\r\n",
        "X_test=sc.transform(X_test)"
      ],
      "execution_count": 130,
      "outputs": []
    },
    {
      "cell_type": "code",
      "metadata": {
        "id": "FiKYo9ayAidc"
      },
      "source": [
        "# Creating model \r\n",
        "model=Sequential()\r\n",
        "model.add(Dense(12,kernel_initializer='he_uniform',activation='relu', input_dim=X.shape[1]))\r\n",
        "model.add(Dense(8,kernel_initializer='he_uniform',activation='relu'))\r\n",
        "model.add(Dense(1,kernel_initializer='glorot_uniform',activation='sigmoid'))\r\n"
      ],
      "execution_count": 131,
      "outputs": []
    },
    {
      "cell_type": "code",
      "metadata": {
        "colab": {
          "base_uri": "https://localhost:8080/"
        },
        "id": "1FwO_94kBtrQ",
        "outputId": "d8a5dfaf-db06-4da7-e67d-875eadbfb775"
      },
      "source": [
        "model.summary()\r\n"
      ],
      "execution_count": 132,
      "outputs": [
        {
          "output_type": "stream",
          "text": [
            "Model: \"sequential_6\"\n",
            "_________________________________________________________________\n",
            "Layer (type)                 Output Shape              Param #   \n",
            "=================================================================\n",
            "dense_14 (Dense)             (None, 12)                108       \n",
            "_________________________________________________________________\n",
            "dense_15 (Dense)             (None, 8)                 104       \n",
            "_________________________________________________________________\n",
            "dense_16 (Dense)             (None, 1)                 9         \n",
            "=================================================================\n",
            "Total params: 221\n",
            "Trainable params: 221\n",
            "Non-trainable params: 0\n",
            "_________________________________________________________________\n"
          ],
          "name": "stdout"
        }
      ]
    },
    {
      "cell_type": "code",
      "metadata": {
        "id": "CnNXpKbjB6BC"
      },
      "source": [
        "# compiling model\r\n",
        "model.compile(optimizer='adam',loss='binary_crossentropy',metrics=['accuracy'])"
      ],
      "execution_count": 133,
      "outputs": []
    },
    {
      "cell_type": "code",
      "metadata": {
        "colab": {
          "base_uri": "https://localhost:8080/"
        },
        "id": "imXnWhYaCQPi",
        "outputId": "6f9a4b5f-2be5-4d63-8ebf-f4bc4c22e0d2"
      },
      "source": [
        "# training model\r\n",
        "comp=model.fit(X_train,y_train, batch_size=10, epochs=70,validation_split=0.33,verbose=1)"
      ],
      "execution_count": 134,
      "outputs": [
        {
          "output_type": "stream",
          "text": [
            "Epoch 1/70\n",
            "42/42 [==============================] - 1s 5ms/step - loss: 0.7884 - accuracy: 0.5273 - val_loss: 0.6309 - val_accuracy: 0.6798\n",
            "Epoch 2/70\n",
            "42/42 [==============================] - 0s 2ms/step - loss: 0.6998 - accuracy: 0.5585 - val_loss: 0.6052 - val_accuracy: 0.6847\n",
            "Epoch 3/70\n",
            "42/42 [==============================] - 0s 2ms/step - loss: 0.6366 - accuracy: 0.6420 - val_loss: 0.5896 - val_accuracy: 0.7044\n",
            "Epoch 4/70\n",
            "42/42 [==============================] - 0s 6ms/step - loss: 0.6285 - accuracy: 0.6091 - val_loss: 0.5780 - val_accuracy: 0.6946\n",
            "Epoch 5/70\n",
            "42/42 [==============================] - 0s 2ms/step - loss: 0.6010 - accuracy: 0.6705 - val_loss: 0.5720 - val_accuracy: 0.6847\n",
            "Epoch 6/70\n",
            "42/42 [==============================] - 0s 2ms/step - loss: 0.5772 - accuracy: 0.6663 - val_loss: 0.5663 - val_accuracy: 0.6847\n",
            "Epoch 7/70\n",
            "42/42 [==============================] - 0s 2ms/step - loss: 0.5200 - accuracy: 0.7817 - val_loss: 0.5686 - val_accuracy: 0.6995\n",
            "Epoch 8/70\n",
            "42/42 [==============================] - 0s 2ms/step - loss: 0.5470 - accuracy: 0.6981 - val_loss: 0.5648 - val_accuracy: 0.7143\n",
            "Epoch 9/70\n",
            "42/42 [==============================] - 0s 2ms/step - loss: 0.5157 - accuracy: 0.7402 - val_loss: 0.5608 - val_accuracy: 0.7241\n",
            "Epoch 10/70\n",
            "42/42 [==============================] - 0s 2ms/step - loss: 0.5017 - accuracy: 0.7793 - val_loss: 0.5589 - val_accuracy: 0.7241\n",
            "Epoch 11/70\n",
            "42/42 [==============================] - 0s 2ms/step - loss: 0.4882 - accuracy: 0.7600 - val_loss: 0.5571 - val_accuracy: 0.7241\n",
            "Epoch 12/70\n",
            "42/42 [==============================] - 0s 3ms/step - loss: 0.4561 - accuracy: 0.7664 - val_loss: 0.5566 - val_accuracy: 0.7438\n",
            "Epoch 13/70\n",
            "42/42 [==============================] - 0s 2ms/step - loss: 0.4735 - accuracy: 0.7477 - val_loss: 0.5559 - val_accuracy: 0.7340\n",
            "Epoch 14/70\n",
            "42/42 [==============================] - 0s 2ms/step - loss: 0.4541 - accuracy: 0.7772 - val_loss: 0.5535 - val_accuracy: 0.7438\n",
            "Epoch 15/70\n",
            "42/42 [==============================] - 0s 2ms/step - loss: 0.4610 - accuracy: 0.7694 - val_loss: 0.5538 - val_accuracy: 0.7438\n",
            "Epoch 16/70\n",
            "42/42 [==============================] - 0s 2ms/step - loss: 0.4920 - accuracy: 0.7569 - val_loss: 0.5534 - val_accuracy: 0.7586\n",
            "Epoch 17/70\n",
            "42/42 [==============================] - 0s 2ms/step - loss: 0.4152 - accuracy: 0.8022 - val_loss: 0.5542 - val_accuracy: 0.7537\n",
            "Epoch 18/70\n",
            "42/42 [==============================] - 0s 2ms/step - loss: 0.4860 - accuracy: 0.7726 - val_loss: 0.5511 - val_accuracy: 0.7537\n",
            "Epoch 19/70\n",
            "42/42 [==============================] - 0s 2ms/step - loss: 0.4558 - accuracy: 0.7740 - val_loss: 0.5496 - val_accuracy: 0.7389\n",
            "Epoch 20/70\n",
            "42/42 [==============================] - 0s 2ms/step - loss: 0.3984 - accuracy: 0.8245 - val_loss: 0.5491 - val_accuracy: 0.7389\n",
            "Epoch 21/70\n",
            "42/42 [==============================] - 0s 2ms/step - loss: 0.4425 - accuracy: 0.7739 - val_loss: 0.5484 - val_accuracy: 0.7488\n",
            "Epoch 22/70\n",
            "42/42 [==============================] - 0s 2ms/step - loss: 0.4457 - accuracy: 0.7667 - val_loss: 0.5490 - val_accuracy: 0.7488\n",
            "Epoch 23/70\n",
            "42/42 [==============================] - 0s 2ms/step - loss: 0.4230 - accuracy: 0.7817 - val_loss: 0.5484 - val_accuracy: 0.7488\n",
            "Epoch 24/70\n",
            "42/42 [==============================] - 0s 2ms/step - loss: 0.3992 - accuracy: 0.8169 - val_loss: 0.5490 - val_accuracy: 0.7488\n",
            "Epoch 25/70\n",
            "42/42 [==============================] - 0s 2ms/step - loss: 0.4318 - accuracy: 0.7773 - val_loss: 0.5477 - val_accuracy: 0.7488\n",
            "Epoch 26/70\n",
            "42/42 [==============================] - 0s 2ms/step - loss: 0.4208 - accuracy: 0.7865 - val_loss: 0.5486 - val_accuracy: 0.7488\n",
            "Epoch 27/70\n",
            "42/42 [==============================] - 0s 2ms/step - loss: 0.4330 - accuracy: 0.7789 - val_loss: 0.5474 - val_accuracy: 0.7488\n",
            "Epoch 28/70\n",
            "42/42 [==============================] - 0s 2ms/step - loss: 0.3768 - accuracy: 0.8372 - val_loss: 0.5488 - val_accuracy: 0.7340\n",
            "Epoch 29/70\n",
            "42/42 [==============================] - 0s 2ms/step - loss: 0.4199 - accuracy: 0.8111 - val_loss: 0.5496 - val_accuracy: 0.7438\n",
            "Epoch 30/70\n",
            "42/42 [==============================] - 0s 2ms/step - loss: 0.4464 - accuracy: 0.7911 - val_loss: 0.5491 - val_accuracy: 0.7488\n",
            "Epoch 31/70\n",
            "42/42 [==============================] - 0s 2ms/step - loss: 0.3842 - accuracy: 0.8156 - val_loss: 0.5487 - val_accuracy: 0.7389\n",
            "Epoch 32/70\n",
            "42/42 [==============================] - 0s 2ms/step - loss: 0.4203 - accuracy: 0.7754 - val_loss: 0.5500 - val_accuracy: 0.7438\n",
            "Epoch 33/70\n",
            "42/42 [==============================] - 0s 3ms/step - loss: 0.3984 - accuracy: 0.7968 - val_loss: 0.5486 - val_accuracy: 0.7389\n",
            "Epoch 34/70\n",
            "42/42 [==============================] - 0s 2ms/step - loss: 0.4662 - accuracy: 0.7659 - val_loss: 0.5497 - val_accuracy: 0.7438\n",
            "Epoch 35/70\n",
            "42/42 [==============================] - 0s 2ms/step - loss: 0.4237 - accuracy: 0.8013 - val_loss: 0.5491 - val_accuracy: 0.7389\n",
            "Epoch 36/70\n",
            "42/42 [==============================] - 0s 2ms/step - loss: 0.3959 - accuracy: 0.7967 - val_loss: 0.5509 - val_accuracy: 0.7438\n",
            "Epoch 37/70\n",
            "42/42 [==============================] - 0s 2ms/step - loss: 0.4169 - accuracy: 0.7891 - val_loss: 0.5511 - val_accuracy: 0.7438\n",
            "Epoch 38/70\n",
            "42/42 [==============================] - 0s 2ms/step - loss: 0.4245 - accuracy: 0.7673 - val_loss: 0.5524 - val_accuracy: 0.7438\n",
            "Epoch 39/70\n",
            "42/42 [==============================] - 0s 2ms/step - loss: 0.4150 - accuracy: 0.7871 - val_loss: 0.5524 - val_accuracy: 0.7389\n",
            "Epoch 40/70\n",
            "42/42 [==============================] - 0s 2ms/step - loss: 0.4272 - accuracy: 0.7738 - val_loss: 0.5520 - val_accuracy: 0.7389\n",
            "Epoch 41/70\n",
            "42/42 [==============================] - 0s 3ms/step - loss: 0.4368 - accuracy: 0.7720 - val_loss: 0.5513 - val_accuracy: 0.7340\n",
            "Epoch 42/70\n",
            "42/42 [==============================] - 0s 2ms/step - loss: 0.3851 - accuracy: 0.8080 - val_loss: 0.5519 - val_accuracy: 0.7438\n",
            "Epoch 43/70\n",
            "42/42 [==============================] - 0s 2ms/step - loss: 0.4124 - accuracy: 0.7803 - val_loss: 0.5533 - val_accuracy: 0.7389\n",
            "Epoch 44/70\n",
            "42/42 [==============================] - 0s 2ms/step - loss: 0.4798 - accuracy: 0.7641 - val_loss: 0.5523 - val_accuracy: 0.7389\n",
            "Epoch 45/70\n",
            "42/42 [==============================] - 0s 2ms/step - loss: 0.4494 - accuracy: 0.7690 - val_loss: 0.5530 - val_accuracy: 0.7389\n",
            "Epoch 46/70\n",
            "42/42 [==============================] - 0s 2ms/step - loss: 0.3923 - accuracy: 0.8025 - val_loss: 0.5564 - val_accuracy: 0.7340\n",
            "Epoch 47/70\n",
            "42/42 [==============================] - 0s 2ms/step - loss: 0.3919 - accuracy: 0.7822 - val_loss: 0.5536 - val_accuracy: 0.7389\n",
            "Epoch 48/70\n",
            "42/42 [==============================] - 0s 2ms/step - loss: 0.4212 - accuracy: 0.7794 - val_loss: 0.5550 - val_accuracy: 0.7389\n",
            "Epoch 49/70\n",
            "42/42 [==============================] - 0s 2ms/step - loss: 0.4045 - accuracy: 0.8215 - val_loss: 0.5559 - val_accuracy: 0.7389\n",
            "Epoch 50/70\n",
            "42/42 [==============================] - 0s 2ms/step - loss: 0.3803 - accuracy: 0.8026 - val_loss: 0.5605 - val_accuracy: 0.7438\n",
            "Epoch 51/70\n",
            "42/42 [==============================] - 0s 5ms/step - loss: 0.3770 - accuracy: 0.8195 - val_loss: 0.5573 - val_accuracy: 0.7340\n",
            "Epoch 52/70\n",
            "42/42 [==============================] - 0s 2ms/step - loss: 0.3864 - accuracy: 0.8112 - val_loss: 0.5550 - val_accuracy: 0.7340\n",
            "Epoch 53/70\n",
            "42/42 [==============================] - 0s 2ms/step - loss: 0.3790 - accuracy: 0.8429 - val_loss: 0.5556 - val_accuracy: 0.7389\n",
            "Epoch 54/70\n",
            "42/42 [==============================] - 0s 2ms/step - loss: 0.3944 - accuracy: 0.8048 - val_loss: 0.5528 - val_accuracy: 0.7389\n",
            "Epoch 55/70\n",
            "42/42 [==============================] - 0s 2ms/step - loss: 0.4096 - accuracy: 0.8047 - val_loss: 0.5535 - val_accuracy: 0.7438\n",
            "Epoch 56/70\n",
            "42/42 [==============================] - 0s 2ms/step - loss: 0.3496 - accuracy: 0.8529 - val_loss: 0.5560 - val_accuracy: 0.7438\n",
            "Epoch 57/70\n",
            "42/42 [==============================] - 0s 2ms/step - loss: 0.3929 - accuracy: 0.8061 - val_loss: 0.5549 - val_accuracy: 0.7389\n",
            "Epoch 58/70\n",
            "42/42 [==============================] - 0s 2ms/step - loss: 0.3849 - accuracy: 0.8276 - val_loss: 0.5595 - val_accuracy: 0.7438\n",
            "Epoch 59/70\n",
            "42/42 [==============================] - 0s 2ms/step - loss: 0.3987 - accuracy: 0.8357 - val_loss: 0.5590 - val_accuracy: 0.7438\n",
            "Epoch 60/70\n",
            "42/42 [==============================] - 0s 2ms/step - loss: 0.3672 - accuracy: 0.8497 - val_loss: 0.5615 - val_accuracy: 0.7438\n",
            "Epoch 61/70\n",
            "42/42 [==============================] - 0s 2ms/step - loss: 0.3443 - accuracy: 0.8469 - val_loss: 0.5620 - val_accuracy: 0.7438\n",
            "Epoch 62/70\n",
            "42/42 [==============================] - 0s 2ms/step - loss: 0.3577 - accuracy: 0.8410 - val_loss: 0.5536 - val_accuracy: 0.7438\n",
            "Epoch 63/70\n",
            "42/42 [==============================] - 0s 2ms/step - loss: 0.3976 - accuracy: 0.8032 - val_loss: 0.5532 - val_accuracy: 0.7438\n",
            "Epoch 64/70\n",
            "42/42 [==============================] - 0s 2ms/step - loss: 0.3489 - accuracy: 0.8416 - val_loss: 0.5556 - val_accuracy: 0.7438\n",
            "Epoch 65/70\n",
            "42/42 [==============================] - 0s 3ms/step - loss: 0.3843 - accuracy: 0.8334 - val_loss: 0.5559 - val_accuracy: 0.7438\n",
            "Epoch 66/70\n",
            "42/42 [==============================] - 0s 2ms/step - loss: 0.3576 - accuracy: 0.8277 - val_loss: 0.5580 - val_accuracy: 0.7438\n",
            "Epoch 67/70\n",
            "42/42 [==============================] - 0s 2ms/step - loss: 0.3778 - accuracy: 0.8278 - val_loss: 0.5597 - val_accuracy: 0.7438\n",
            "Epoch 68/70\n",
            "42/42 [==============================] - 0s 2ms/step - loss: 0.4056 - accuracy: 0.8213 - val_loss: 0.5623 - val_accuracy: 0.7438\n",
            "Epoch 69/70\n",
            "42/42 [==============================] - 0s 2ms/step - loss: 0.3500 - accuracy: 0.8372 - val_loss: 0.5616 - val_accuracy: 0.7438\n",
            "Epoch 70/70\n",
            "42/42 [==============================] - 0s 2ms/step - loss: 0.3726 - accuracy: 0.8297 - val_loss: 0.5636 - val_accuracy: 0.7438\n"
          ],
          "name": "stdout"
        }
      ]
    },
    {
      "cell_type": "code",
      "metadata": {
        "colab": {
          "base_uri": "https://localhost:8080/"
        },
        "id": "-Dr2d6VqCnmI",
        "outputId": "90e44ec9-e45c-4f3a-de72-dc2ccbbcd00d"
      },
      "source": [
        "# evaluating model\r\n",
        "_,eva=model.evaluate(X_train,y_train)\r\n",
        "print('Accuracy: %.2f' % (eva*100))"
      ],
      "execution_count": 135,
      "outputs": [
        {
          "output_type": "stream",
          "text": [
            "20/20 [==============================] - 0s 1ms/step - loss: 0.4313 - accuracy: 0.8062\n",
            "Accuracy: 80.62\n"
          ],
          "name": "stdout"
        }
      ]
    },
    {
      "cell_type": "code",
      "metadata": {
        "colab": {
          "base_uri": "https://localhost:8080/"
        },
        "id": "_qdnFhbbDgs8",
        "outputId": "7ae6488e-f3b4-4f80-ed8a-b33a9e4f7804"
      },
      "source": [
        "print(comp.history.keys())"
      ],
      "execution_count": 136,
      "outputs": [
        {
          "output_type": "stream",
          "text": [
            "dict_keys(['loss', 'accuracy', 'val_loss', 'val_accuracy'])\n"
          ],
          "name": "stdout"
        }
      ]
    },
    {
      "cell_type": "code",
      "metadata": {
        "colab": {
          "base_uri": "https://localhost:8080/",
          "height": 295
        },
        "id": "zxyQgUY4Exid",
        "outputId": "ff63f179-5585-4b8e-e132-7d833bf3f30f"
      },
      "source": [
        "# Graphical presentation of accuracy and val_accuracy\r\n",
        "plt.plot(comp.history['accuracy'])\r\n",
        "plt.plot(comp.history['val_accuracy'])\r\n",
        "plt.title('Model_accuracy')\r\n",
        "plt.ylabel('accuracy')\r\n",
        "plt.xlabel('epoch')\r\n",
        "plt.legend(['train', 'test'], loc='upper left')\r\n",
        "plt.show()"
      ],
      "execution_count": 137,
      "outputs": [
        {
          "output_type": "display_data",
          "data": {
            "image/png": "[encoded data removed]",
            "text/plain": [
              "<Figure size 432x288 with 1 Axes>"
            ]
          },
          "metadata": {
            "tags": [],
            "needs_background": "light"
          }
        }
      ]
    },
    {
      "cell_type": "code",
      "metadata": {
        "colab": {
          "base_uri": "https://localhost:8080/",
          "height": 295
        },
        "id": "vPrF4IOzFl19",
        "outputId": "39ef1c54-2e8d-49f0-c6e2-b7ce7fc20281"
      },
      "source": [
        "# Graphical presentation of loss and val_loss\r\n",
        "plt.plot(comp.history['loss'])\r\n",
        "plt.plot(comp.history['val_loss'])\r\n",
        "plt.title('Model_accuracy')\r\n",
        "plt.ylabel('accuracy')\r\n",
        "plt.xlabel('epoch')\r\n",
        "plt.legend(['train', 'test'], loc='upper left')\r\n",
        "plt.show()"
      ],
      "execution_count": 138,
      "outputs": [
        {
          "output_type": "display_data",
          "data": {
            "image/png": "[encoded data removed]",
            "text/plain": [
              "<Figure size 432x288 with 1 Axes>"
            ]
          },
          "metadata": {
            "tags": [],
            "needs_background": "light"
          }
        }
      ]
    },
    {
      "cell_type": "code",
      "metadata": {
        "colab": {
          "base_uri": "https://localhost:8080/"
        },
        "id": "gaVI9BRBGxQs",
        "outputId": "7e4f4862-0278-4544-ee2d-f6146b3f7789"
      },
      "source": [
        "# prediction\r\n",
        "y_pred=model.predict_classes(X_test)"
      ],
      "execution_count": 139,
      "outputs": [
        {
          "output_type": "stream",
          "text": [
            "/usr/local/lib/python3.6/dist-packages/tensorflow/python/keras/engine/sequential.py:450: UserWarning: `model.predict_classes()` is deprecated and will be removed after 2021-01-01. Please use instead:* `np.argmax(model.predict(x), axis=-1)`,   if your model does multi-class classification   (e.g. if it uses a `softmax` last-layer activation).* `(model.predict(x) > 0.5).astype(\"int32\")`,   if your model does binary classification   (e.g. if it uses a `sigmoid` last-layer activation).\n",
            "  warnings.warn('`model.predict_classes()` is deprecated and '\n"
          ],
          "name": "stderr"
        }
      ]
    },
    {
      "cell_type": "code",
      "metadata": {
        "colab": {
          "base_uri": "https://localhost:8080/",
          "height": 442
        },
        "id": "FeEYP9JwIbn2",
        "outputId": "2b2dc01c-b3bf-4dde-f223-d83c4b466a71"
      },
      "source": [
        "# printing confusion metrix using seaborn and accuracy_score...\r\n",
        "import seaborn as sn\r\n",
        "cm = tf.math.confusion_matrix(labels=y_test,predictions=y_pred)\r\n",
        "\r\n",
        "plt.figure(figsize = (10,7))\r\n",
        "sn.heatmap(cm, annot=True, fmt='d')\r\n",
        "plt.xlabel('Predicted')\r\n",
        "plt.ylabel('Truth')\r\n",
        "plt.show()"
      ],
      "execution_count": 140,
      "outputs": [
        {
          "output_type": "display_data",
          "data": {
            "image/png": "[encoded data removed]",
            "text/plain": [
              "<Figure size 720x504 with 2 Axes>"
            ]
          },
          "metadata": {
            "tags": [],
            "needs_background": "light"
          }
        }
      ]
    },
    {
      "cell_type": "code",
      "metadata": {
        "colab": {
          "base_uri": "https://localhost:8080/"
        },
        "id": "ex60dxQsKr-M",
        "outputId": "1e5020ff-0a87-4ce7-b385-aeca0c0834b6"
      },
      "source": [
        "from sklearn.metrics import accuracy_score\r\n",
        "accuracy_score(y_test,y_pred)"
      ],
      "execution_count": 141,
      "outputs": [
        {
          "output_type": "execute_result",
          "data": {
            "text/plain": [
              "0.7792207792207793"
            ]
          },
          "metadata": {
            "tags": []
          },
          "execution_count": 141
        }
      ]
    },
    {
      "cell_type": "code",
      "metadata": {
        "id": "-741X53UMk2g"
      },
      "source": [
        ""
      ],
      "execution_count": 141,
      "outputs": []
    }
  ]
}